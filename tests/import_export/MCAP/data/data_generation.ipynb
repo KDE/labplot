{
 "cells": [
  {
   "cell_type": "code",
   "execution_count": 1,
   "id": "204bcb05-a556-4d97-890c-ad0a28892102",
   "metadata": {},
   "outputs": [
    {
     "data": {
      "text/plain": [
       "['Collecting mcap',\n",
       " '  Downloading mcap-1.1.1-py3-none-any.whl (27 kB)',\n",
       " 'Collecting lz4',\n",
       " '  Downloading lz4-4.3.3-cp310-cp310-manylinux_2_17_x86_64.manylinux2014_x86_64.whl (1.3 MB)',\n",
       " '     ━━━━━━━━━━━━━━━━━━━━━━━━━━━━━━━━━━━━━━━━ 1.3/1.3 MB 6.4 MB/s eta 0:00:00',\n",
       " 'Collecting zstandard',\n",
       " '  Downloading zstandard-0.22.0-cp310-cp310-manylinux_2_17_x86_64.manylinux2014_x86_64.whl (5.4 MB)',\n",
       " '     ━━━━━━━━━━━━━━━━━━━━━━━━━━━━━━━━━━━━━━━━ 5.4/5.4 MB 8.4 MB/s eta 0:00:00',\n",
       " 'Installing collected packages: zstandard, lz4, mcap',\n",
       " 'Successfully installed lz4-4.3.3 mcap-1.1.1 zstandard-0.22.0']"
      ]
     },
     "execution_count": 1,
     "metadata": {},
     "output_type": "execute_result"
    }
   ],
   "source": [
    "!!pip install mcap"
   ]
  },
  {
   "cell_type": "code",
   "execution_count": 9,
   "id": "1e62c9d4-a045-436c-96a0-33c92f6ee737",
   "metadata": {},
   "outputs": [],
   "source": [
    "import json\n",
    "import sys\n",
    "from time import time_ns\n",
    "\n",
    "from mcap.writer import Writer,CompressionType\n",
    "\n",
    "with open(\"basic.mcap\", \"wb\") as stream:\n",
    "    writer = Writer(stream,compression=CompressionType.NONE)\n",
    "\n",
    "    writer.start()\n",
    "\n",
    "    schema_id = writer.register_schema(\n",
    "        name=\"sample\",\n",
    "        encoding=\"jsonschema\",\n",
    "        data=json.dumps(\n",
    "            {\n",
    "                \"type\": \"object\",\n",
    "                \"properties\": {\n",
    "                    \"value\": {\n",
    "                        \"type\": \"integer\",\n",
    "                    }\n",
    "                },\n",
    "            }\n",
    "        ).encode(),\n",
    "    )\n",
    "\n",
    "    channel_id = writer.register_channel(\n",
    "        schema_id=schema_id,\n",
    "        topic=\"integer_topic\",\n",
    "        message_encoding=\"json\",\n",
    "    )\n",
    "\n",
    "    for i in range(10):\n",
    "        writer.add_message(\n",
    "            channel_id=channel_id,\n",
    "            log_time=time_ns(),\n",
    "            data=json.dumps({\"value\": i}).encode(\"utf-8\"),\n",
    "            publish_time=time_ns(),\n",
    "            sequence=i\n",
    "        )\n",
    "\n",
    "    writer.finish()"
   ]
  },
  {
   "cell_type": "code",
   "execution_count": null,
   "id": "69f16eca-193d-403b-a54a-ebe3cd935887",
   "metadata": {},
   "outputs": [],
   "source": []
  }
 ],
 "metadata": {
  "kernelspec": {
   "display_name": "Python 3 (ipykernel)",
   "language": "python",
   "name": "python3"
  },
  "language_info": {
   "codemirror_mode": {
    "name": "ipython",
    "version": 3
   },
   "file_extension": ".py",
   "mimetype": "text/x-python",
   "name": "python",
   "nbconvert_exporter": "python",
   "pygments_lexer": "ipython3",
   "version": "3.10.12"
  }
 },
 "nbformat": 4,
 "nbformat_minor": 5
}
